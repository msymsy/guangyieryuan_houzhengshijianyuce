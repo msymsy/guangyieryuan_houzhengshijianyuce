{
 "cells": [
  {
   "cell_type": "code",
   "execution_count": 1,
   "metadata": {},
   "outputs": [],
   "source": [
    "import pandas as pd\n",
    "pd.set_option('display.max_columns', 50) \n",
    "import datetime\n",
    "import matplotlib.pyplot as plt\n",
    "plt.rcParams['font.sans-serif'] = ['KaiTi']  # 显示中文\n",
    "from matplotlib.font_manager import FontProperties\n",
    "myfont = FontProperties(fname=r\"c:\\windows\\fonts\\simhei.ttf\", size=14)"
   ]
  },
  {
   "cell_type": "code",
   "execution_count": 2,
   "metadata": {},
   "outputs": [
    {
     "data": {
      "text/html": [
       "<div>\n",
       "<style scoped>\n",
       "    .dataframe tbody tr th:only-of-type {\n",
       "        vertical-align: middle;\n",
       "    }\n",
       "\n",
       "    .dataframe tbody tr th {\n",
       "        vertical-align: top;\n",
       "    }\n",
       "\n",
       "    .dataframe thead th {\n",
       "        text-align: right;\n",
       "    }\n",
       "</style>\n",
       "<table border=\"1\" class=\"dataframe\">\n",
       "  <thead>\n",
       "    <tr style=\"text-align: right;\">\n",
       "      <th></th>\n",
       "      <th>就诊时间</th>\n",
       "      <th>年龄</th>\n",
       "      <th>性别</th>\n",
       "      <th>分诊科室</th>\n",
       "      <th>分诊等级</th>\n",
       "      <th>分诊去向</th>\n",
       "      <th>分诊时间</th>\n",
       "      <th>到诊时间</th>\n",
       "      <th>抢救上床时间</th>\n",
       "      <th>体温类型</th>\n",
       "      <th>体温</th>\n",
       "      <th>脉搏</th>\n",
       "      <th>收缩压</th>\n",
       "      <th>舒张压</th>\n",
       "      <th>呼吸</th>\n",
       "      <th>SpO2</th>\n",
       "      <th>微量血糖</th>\n",
       "      <th>疼痛评分</th>\n",
       "      <th>GCS评分</th>\n",
       "      <th>PHI评分</th>\n",
       "      <th>来诊主诉</th>\n",
       "      <th>主诉</th>\n",
       "      <th>现病史</th>\n",
       "      <th>既病史</th>\n",
       "      <th>药物过敏史</th>\n",
       "      <th>诊断</th>\n",
       "      <th>处理意见</th>\n",
       "      <th>注意事项</th>\n",
       "      <th>时长</th>\n",
       "      <th>没有时长的主诉</th>\n",
       "      <th>时长（统一数字）_1</th>\n",
       "      <th>编码</th>\n",
       "      <th>分诊</th>\n",
       "      <th>到诊</th>\n",
       "      <th>时间差</th>\n",
       "      <th>分诊-年</th>\n",
       "      <th>分诊-月</th>\n",
       "      <th>分诊-日</th>\n",
       "      <th>分诊-时</th>\n",
       "      <th>分诊-分</th>\n",
       "      <th>分诊-秒</th>\n",
       "      <th>候诊/分钟</th>\n",
       "    </tr>\n",
       "  </thead>\n",
       "  <tbody>\n",
       "    <tr>\n",
       "      <td>0</td>\n",
       "      <td>2017-12-31 23:59:00</td>\n",
       "      <td>59.0</td>\n",
       "      <td>男</td>\n",
       "      <td>急诊外科</td>\n",
       "      <td>2</td>\n",
       "      <td>医疗室</td>\n",
       "      <td>2018-01-01 00:01:00</td>\n",
       "      <td>2018-01-01 01:37:00</td>\n",
       "      <td></td>\n",
       "      <td>耳温</td>\n",
       "      <td>37.0</td>\n",
       "      <td>51.00</td>\n",
       "      <td>181.000</td>\n",
       "      <td>59.00</td>\n",
       "      <td>19.3</td>\n",
       "      <td>99.0</td>\n",
       "      <td>0.0</td>\n",
       "      <td>43289</td>\n",
       "      <td>15</td>\n",
       "      <td>0</td>\n",
       "      <td>腰痛伴呕吐3小时余</td>\n",
       "      <td>腰背部疼痛3小时</td>\n",
       "      <td>腰背部疼痛3小时，进食后出现腰背痛，伴恶心呕吐，活动可</td>\n",
       "      <td>高血压病</td>\n",
       "      <td>否认</td>\n",
       "      <td>腰痛查因</td>\n",
       "      <td>治疗        静脉采血成组(含一次性采血针)  检验        血常规五分类(末梢...</td>\n",
       "      <td>注意休息，如有不适，请及时就诊。</td>\n",
       "      <td>['3小时余']</td>\n",
       "      <td>腰痛伴呕吐</td>\n",
       "      <td>['3时']</td>\n",
       "      <td>[60315, 70101, 0, 0]</td>\n",
       "      <td>2018-01-01 00:01:00</td>\n",
       "      <td>2018-01-01 01:37:00</td>\n",
       "      <td>0.066667</td>\n",
       "      <td>2018</td>\n",
       "      <td>1</td>\n",
       "      <td>1</td>\n",
       "      <td>0</td>\n",
       "      <td>1</td>\n",
       "      <td>0</td>\n",
       "      <td>96</td>\n",
       "    </tr>\n",
       "    <tr>\n",
       "      <td>1</td>\n",
       "      <td>2018-01-01 00:14:00</td>\n",
       "      <td>41.0</td>\n",
       "      <td>男</td>\n",
       "      <td>急诊内科</td>\n",
       "      <td>4</td>\n",
       "      <td>医疗室</td>\n",
       "      <td>2018-01-01 00:20:00</td>\n",
       "      <td>2018-01-01 08:15:00</td>\n",
       "      <td></td>\n",
       "      <td>耳温</td>\n",
       "      <td>37.0</td>\n",
       "      <td>100.00</td>\n",
       "      <td>128.000</td>\n",
       "      <td>85.00</td>\n",
       "      <td>20.0</td>\n",
       "      <td>98.0</td>\n",
       "      <td>0.0</td>\n",
       "      <td></td>\n",
       "      <td>15</td>\n",
       "      <td>0</td>\n",
       "      <td>咽部不适</td>\n",
       "      <td></td>\n",
       "      <td></td>\n",
       "      <td></td>\n",
       "      <td></td>\n",
       "      <td></td>\n",
       "      <td></td>\n",
       "      <td></td>\n",
       "      <td>[]</td>\n",
       "      <td>咽部不适</td>\n",
       "      <td>['']</td>\n",
       "      <td>[60105, 0, 0, 0]</td>\n",
       "      <td>2018-01-01 00:20:00</td>\n",
       "      <td>2018-01-01 08:15:00</td>\n",
       "      <td>0.329861</td>\n",
       "      <td>2018</td>\n",
       "      <td>1</td>\n",
       "      <td>1</td>\n",
       "      <td>0</td>\n",
       "      <td>20</td>\n",
       "      <td>0</td>\n",
       "      <td>475</td>\n",
       "    </tr>\n",
       "    <tr>\n",
       "      <td>2</td>\n",
       "      <td>2018-01-01 00:19:00</td>\n",
       "      <td>59.0</td>\n",
       "      <td>女</td>\n",
       "      <td>急诊内科</td>\n",
       "      <td>3</td>\n",
       "      <td>医疗室</td>\n",
       "      <td>2018-01-01 00:24:00</td>\n",
       "      <td>2018-01-01 02:42:00</td>\n",
       "      <td>2018-01-01 03:05:00</td>\n",
       "      <td>耳温</td>\n",
       "      <td>36.0</td>\n",
       "      <td>74.00</td>\n",
       "      <td>168.000</td>\n",
       "      <td>85.00</td>\n",
       "      <td>20.0</td>\n",
       "      <td>99.0</td>\n",
       "      <td>0.0</td>\n",
       "      <td></td>\n",
       "      <td>15</td>\n",
       "      <td>0</td>\n",
       "      <td>自诉咽痛鼻塞声嘶7天伴胸部不适1小时</td>\n",
       "      <td>心悸、胸闷3小时</td>\n",
       "      <td>患者于3小时因心悸、胸闷，无胸痛，伴头晕，耳鸣，无伴呕吐，无伴咳嗽、咳痰，无发热，无排黑便。</td>\n",
       "      <td>无“高血压”有“糖尿病”。</td>\n",
       "      <td>未发现</td>\n",
       "      <td>胸闷查因</td>\n",
       "      <td>处方        0.9%氯化钠注射液  1袋  250ML  IVD  每日一次    ...</td>\n",
       "      <td>II级护理;测BP P SpO2 q2H；留陪人;</td>\n",
       "      <td>['7天', '1小时']</td>\n",
       "      <td>自诉咽痛鼻塞声嘶伴胸部不适</td>\n",
       "      <td>['1时']</td>\n",
       "      <td>[100104, 30303, 100105, 60105]</td>\n",
       "      <td>2018-01-01 00:24:00</td>\n",
       "      <td>2018-01-01 02:42:00</td>\n",
       "      <td>0.095833</td>\n",
       "      <td>2018</td>\n",
       "      <td>1</td>\n",
       "      <td>1</td>\n",
       "      <td>0</td>\n",
       "      <td>24</td>\n",
       "      <td>0</td>\n",
       "      <td>138</td>\n",
       "    </tr>\n",
       "    <tr>\n",
       "      <td>3</td>\n",
       "      <td>2018-01-01 00:30:00</td>\n",
       "      <td>1.0</td>\n",
       "      <td>女</td>\n",
       "      <td>急诊儿科</td>\n",
       "      <td>3</td>\n",
       "      <td>医疗室</td>\n",
       "      <td>2018-01-01 00:32:00</td>\n",
       "      <td>2018-01-01 01:41:00</td>\n",
       "      <td></td>\n",
       "      <td>耳温</td>\n",
       "      <td>38.9</td>\n",
       "      <td>89.96</td>\n",
       "      <td>138.404</td>\n",
       "      <td>81.03</td>\n",
       "      <td>19.3</td>\n",
       "      <td>0.0</td>\n",
       "      <td>0.0</td>\n",
       "      <td></td>\n",
       "      <td>15</td>\n",
       "      <td>0</td>\n",
       "      <td>发热半天</td>\n",
       "      <td></td>\n",
       "      <td></td>\n",
       "      <td></td>\n",
       "      <td></td>\n",
       "      <td></td>\n",
       "      <td></td>\n",
       "      <td></td>\n",
       "      <td>['半天']</td>\n",
       "      <td>发热</td>\n",
       "      <td>['半天']</td>\n",
       "      <td>[110121, 0, 0, 0]</td>\n",
       "      <td>2018-01-01 00:32:00</td>\n",
       "      <td>2018-01-01 01:41:00</td>\n",
       "      <td>0.047917</td>\n",
       "      <td>2018</td>\n",
       "      <td>1</td>\n",
       "      <td>1</td>\n",
       "      <td>0</td>\n",
       "      <td>32</td>\n",
       "      <td>0</td>\n",
       "      <td>69</td>\n",
       "    </tr>\n",
       "    <tr>\n",
       "      <td>4</td>\n",
       "      <td>2018-01-01 00:33:00</td>\n",
       "      <td>14.0</td>\n",
       "      <td>男</td>\n",
       "      <td>急诊儿科</td>\n",
       "      <td>3</td>\n",
       "      <td>医疗室</td>\n",
       "      <td>2018-01-01 00:34:00</td>\n",
       "      <td>2018-01-01 01:44:00</td>\n",
       "      <td></td>\n",
       "      <td>耳温</td>\n",
       "      <td>39.0</td>\n",
       "      <td>89.96</td>\n",
       "      <td>138.404</td>\n",
       "      <td>81.03</td>\n",
       "      <td>19.3</td>\n",
       "      <td>0.0</td>\n",
       "      <td>0.0</td>\n",
       "      <td></td>\n",
       "      <td>15</td>\n",
       "      <td>0</td>\n",
       "      <td>发热伴出水痘1天</td>\n",
       "      <td></td>\n",
       "      <td></td>\n",
       "      <td></td>\n",
       "      <td></td>\n",
       "      <td></td>\n",
       "      <td></td>\n",
       "      <td></td>\n",
       "      <td>['1天']</td>\n",
       "      <td>发热伴出水痘</td>\n",
       "      <td>['1天']</td>\n",
       "      <td>[90130, 110121, 0, 0]</td>\n",
       "      <td>2018-01-01 00:34:00</td>\n",
       "      <td>2018-01-01 01:44:00</td>\n",
       "      <td>0.048611</td>\n",
       "      <td>2018</td>\n",
       "      <td>1</td>\n",
       "      <td>1</td>\n",
       "      <td>0</td>\n",
       "      <td>34</td>\n",
       "      <td>0</td>\n",
       "      <td>70</td>\n",
       "    </tr>\n",
       "  </tbody>\n",
       "</table>\n",
       "</div>"
      ],
      "text/plain": [
       "                 就诊时间    年龄 性别  分诊科室  分诊等级 分诊去向                 分诊时间  \\\n",
       "0 2017-12-31 23:59:00  59.0  男  急诊外科     2  医疗室  2018-01-01 00:01:00   \n",
       "1 2018-01-01 00:14:00  41.0  男  急诊内科     4  医疗室  2018-01-01 00:20:00   \n",
       "2 2018-01-01 00:19:00  59.0  女  急诊内科     3  医疗室  2018-01-01 00:24:00   \n",
       "3 2018-01-01 00:30:00   1.0  女  急诊儿科     3  医疗室  2018-01-01 00:32:00   \n",
       "4 2018-01-01 00:33:00  14.0  男  急诊儿科     3  医疗室  2018-01-01 00:34:00   \n",
       "\n",
       "                 到诊时间               抢救上床时间 体温类型    体温      脉搏      收缩压    舒张压  \\\n",
       "0 2018-01-01 01:37:00                        耳温  37.0   51.00  181.000  59.00   \n",
       "1 2018-01-01 08:15:00                        耳温  37.0  100.00  128.000  85.00   \n",
       "2 2018-01-01 02:42:00  2018-01-01 03:05:00   耳温  36.0   74.00  168.000  85.00   \n",
       "3 2018-01-01 01:41:00                        耳温  38.9   89.96  138.404  81.03   \n",
       "4 2018-01-01 01:44:00                        耳温  39.0   89.96  138.404  81.03   \n",
       "\n",
       "     呼吸  SpO2  微量血糖   疼痛评分  GCS评分  PHI评分                来诊主诉        主诉  \\\n",
       "0  19.3  99.0   0.0  43289     15      0           腰痛伴呕吐3小时余  腰背部疼痛3小时   \n",
       "1  20.0  98.0   0.0            15      0                咽部不适             \n",
       "2  20.0  99.0   0.0            15      0  自诉咽痛鼻塞声嘶7天伴胸部不适1小时  心悸、胸闷3小时   \n",
       "3  19.3   0.0   0.0            15      0                发热半天             \n",
       "4  19.3   0.0   0.0            15      0            发热伴出水痘1天             \n",
       "\n",
       "                                              现病史            既病史 药物过敏史    诊断  \\\n",
       "0                     腰背部疼痛3小时，进食后出现腰背痛，伴恶心呕吐，活动可           高血压病    否认  腰痛查因   \n",
       "1                                                                              \n",
       "2  患者于3小时因心悸、胸闷，无胸痛，伴头晕，耳鸣，无伴呕吐，无伴咳嗽、咳痰，无发热，无排黑便。  无“高血压”有“糖尿病”。   未发现  胸闷查因   \n",
       "3                                                                              \n",
       "4                                                                              \n",
       "\n",
       "                                                处理意见  \\\n",
       "0  治疗        静脉采血成组(含一次性采血针)  检验        血常规五分类(末梢...   \n",
       "1                                                      \n",
       "2  处方        0.9%氯化钠注射液  1袋  250ML  IVD  每日一次    ...   \n",
       "3                                                      \n",
       "4                                                      \n",
       "\n",
       "                        注意事项             时长        没有时长的主诉 时长（统一数字）_1  \\\n",
       "0           注意休息，如有不适，请及时就诊。       ['3小时余']          腰痛伴呕吐     ['3时']   \n",
       "1                                        []           咽部不适       ['']   \n",
       "2  II级护理;测BP P SpO2 q2H；留陪人;  ['7天', '1小时']  自诉咽痛鼻塞声嘶伴胸部不适     ['1时']   \n",
       "3                                    ['半天']             发热     ['半天']   \n",
       "4                                    ['1天']         发热伴出水痘     ['1天']   \n",
       "\n",
       "                               编码                  分诊                  到诊  \\\n",
       "0            [60315, 70101, 0, 0] 2018-01-01 00:01:00 2018-01-01 01:37:00   \n",
       "1                [60105, 0, 0, 0] 2018-01-01 00:20:00 2018-01-01 08:15:00   \n",
       "2  [100104, 30303, 100105, 60105] 2018-01-01 00:24:00 2018-01-01 02:42:00   \n",
       "3               [110121, 0, 0, 0] 2018-01-01 00:32:00 2018-01-01 01:41:00   \n",
       "4           [90130, 110121, 0, 0] 2018-01-01 00:34:00 2018-01-01 01:44:00   \n",
       "\n",
       "        时间差  分诊-年  分诊-月  分诊-日  分诊-时  分诊-分  分诊-秒  候诊/分钟  \n",
       "0  0.066667  2018     1     1     0     1     0     96  \n",
       "1  0.329861  2018     1     1     0    20     0    475  \n",
       "2  0.095833  2018     1     1     0    24     0    138  \n",
       "3  0.047917  2018     1     1     0    32     0     69  \n",
       "4  0.048611  2018     1     1     0    34     0     70  "
      ]
     },
     "execution_count": 2,
     "metadata": {},
     "output_type": "execute_result"
    }
   ],
   "source": [
    "data=pd.read_excel('模型数据/2018年数据20200803.xlsx')\n",
    "data.head()"
   ]
  },
  {
   "cell_type": "code",
   "execution_count": 3,
   "metadata": {},
   "outputs": [
    {
     "name": "stderr",
     "output_type": "stream",
     "text": [
      "F:\\Anaconda\\lib\\site-packages\\pandas\\core\\ops\\__init__.py:1115: FutureWarning: elementwise comparison failed; returning scalar instead, but in the future will perform elementwise comparison\n",
      "  result = method(y)\n"
     ]
    },
    {
     "data": {
      "text/html": [
       "<div>\n",
       "<style scoped>\n",
       "    .dataframe tbody tr th:only-of-type {\n",
       "        vertical-align: middle;\n",
       "    }\n",
       "\n",
       "    .dataframe tbody tr th {\n",
       "        vertical-align: top;\n",
       "    }\n",
       "\n",
       "    .dataframe thead th {\n",
       "        text-align: right;\n",
       "    }\n",
       "</style>\n",
       "<table border=\"1\" class=\"dataframe\">\n",
       "  <thead>\n",
       "    <tr style=\"text-align: right;\">\n",
       "      <th></th>\n",
       "      <th>就诊时间</th>\n",
       "      <th>年龄</th>\n",
       "      <th>性别</th>\n",
       "      <th>分诊科室</th>\n",
       "      <th>分诊等级</th>\n",
       "      <th>分诊去向</th>\n",
       "      <th>分诊时间</th>\n",
       "      <th>到诊时间</th>\n",
       "      <th>抢救上床时间</th>\n",
       "      <th>体温类型</th>\n",
       "      <th>体温</th>\n",
       "      <th>脉搏</th>\n",
       "      <th>收缩压</th>\n",
       "      <th>舒张压</th>\n",
       "      <th>呼吸</th>\n",
       "      <th>SpO2</th>\n",
       "      <th>微量血糖</th>\n",
       "      <th>疼痛评分</th>\n",
       "      <th>GCS评分</th>\n",
       "      <th>PHI评分</th>\n",
       "      <th>来诊主诉</th>\n",
       "      <th>主诉</th>\n",
       "      <th>现病史</th>\n",
       "      <th>既病史</th>\n",
       "      <th>药物过敏史</th>\n",
       "      <th>诊断</th>\n",
       "      <th>处理意见</th>\n",
       "      <th>注意事项</th>\n",
       "      <th>时长</th>\n",
       "      <th>没有时长的主诉</th>\n",
       "      <th>时长（统一数字）_1</th>\n",
       "      <th>编码</th>\n",
       "      <th>分诊</th>\n",
       "      <th>到诊</th>\n",
       "      <th>时间差</th>\n",
       "      <th>分诊-年</th>\n",
       "      <th>分诊-月</th>\n",
       "      <th>分诊-日</th>\n",
       "      <th>分诊-时</th>\n",
       "      <th>分诊-分</th>\n",
       "      <th>分诊-秒</th>\n",
       "      <th>候诊/分钟</th>\n",
       "    </tr>\n",
       "  </thead>\n",
       "  <tbody>\n",
       "  </tbody>\n",
       "</table>\n",
       "</div>"
      ],
      "text/plain": [
       "Empty DataFrame\n",
       "Columns: [就诊时间, 年龄, 性别, 分诊科室, 分诊等级, 分诊去向, 分诊时间, 到诊时间, 抢救上床时间, 体温类型, 体温, 脉搏, 收缩压, 舒张压, 呼吸, SpO2, 微量血糖, 疼痛评分, GCS评分, PHI评分, 来诊主诉, 主诉, 现病史, 既病史, 药物过敏史, 诊断, 处理意见, 注意事项, 时长, 没有时长的主诉, 时长（统一数字）_1, 编码, 分诊, 到诊, 时间差, 分诊-年, 分诊-月, 分诊-日, 分诊-时, 分诊-分, 分诊-秒, 候诊/分钟]\n",
       "Index: []"
      ]
     },
     "execution_count": 3,
     "metadata": {},
     "output_type": "execute_result"
    }
   ],
   "source": [
    "data[data['年龄']==' ']"
   ]
  },
  {
   "cell_type": "code",
   "execution_count": 4,
   "metadata": {},
   "outputs": [],
   "source": [
    "##大于14岁的为成人\n",
    "# def need(x):\n",
    "#     a=False\n",
    "#     if 'M' in x:\n",
    "#         a=True  \n",
    "#     return a\n",
    "# data[data['年龄'].apply(lambda x:need(x))]"
   ]
  },
  {
   "cell_type": "code",
   "execution_count": 24,
   "metadata": {},
   "outputs": [
    {
     "data": {
      "text/plain": [
       "[63586, 65059]"
      ]
     },
     "execution_count": 24,
     "metadata": {},
     "output_type": "execute_result"
    }
   ],
   "source": [
    "xingbie=[]\n",
    "labels=data['性别'].unique()\n",
    "for i in data['性别'].unique():\n",
    "    xingbie.append(len(data[data['性别']==i]))\n",
    "xingbie"
   ]
  },
  {
   "cell_type": "code",
   "execution_count": 33,
   "metadata": {},
   "outputs": [
    {
     "data": {
      "image/png": "[encoded data removed]",
      "text/plain": [
       "<Figure size 936x576 with 1 Axes>"
      ]
     },
     "metadata": {
      "needs_background": "light"
     },
     "output_type": "display_data"
    }
   ],
   "source": [
    "fig = plt.figure(figsize=(13, 8))\n",
    "plt.bar(labels, xingbie,color=['r','g','b', 'c', 'm', 'y'],width=0.5)\n",
    "for a,b in zip(labels,xingbie):\n",
    "    plt.text(a, b-0.3,'%.0f'%b, ha = 'center',va = 'bottom',fontsize=12)\n",
    "plt.setp(plt.gca().get_xticklabels(), rotation=15, horizontalalignment='center')#x轴字体旋转23度\n",
    "plt.xticks(fontsize=16)#设置刻度字体大小\n",
    "plt.grid(True,axis='both',linestyle='-.', linewidth=0.5)\n",
    "# plt.xlabel(\"温度\",fontdict={'fontsize': 16})\n",
    "plt.ylabel(\"人数\",fontdict={'fontsize': 16})\n",
    "# plt.savefig('')\n",
    "plt.show()"
   ]
  },
  {
   "cell_type": "code",
   "execution_count": 5,
   "metadata": {},
   "outputs": [
    {
     "name": "stdout",
     "output_type": "stream",
     "text": [
      "59.0 1182\n",
      "41.0 880\n",
      "1.0 4910\n",
      "14.0 816\n",
      "2.0 4169\n",
      "13.0 823\n",
      "18.0 1426\n",
      "7.0 2044\n",
      "71.0 922\n",
      "35.0 1599\n",
      "34.0 1587\n",
      "74.0 705\n",
      "48.0 1078\n",
      "86.0 591\n",
      "43.0 889\n",
      "4.0 4072\n",
      "8.0 1824\n",
      "51.0 1000\n",
      "45.0 1059\n",
      "55.0 1508\n",
      "5.0 2866\n",
      "29.0 2306\n",
      "81.0 930\n",
      "42.0 920\n",
      "28.0 2327\n",
      "27.0 2290\n",
      "62.0 1367\n",
      "40.0 1032\n",
      "10.0 1312\n",
      "76.0 802\n",
      "32.0 1975\n",
      "36.0 1578\n",
      "25.0 2329\n",
      "26.0 2209\n",
      "21.0 1466\n",
      "31.0 2060\n",
      "80.0 963\n",
      "63.0 1363\n",
      "16.0 852\n",
      "57.0 1074\n",
      "79.0 858\n",
      "91.0 239\n",
      "30.0 2288\n",
      "64.0 1395\n",
      "49.0 1092\n",
      "11.0 1171\n",
      "69.0 1025\n",
      "37.0 1285\n",
      "3.0 3891\n",
      "72.0 872\n",
      "53.0 1091\n",
      "68.0 1080\n",
      "33.0 1935\n",
      "9.0 1354\n",
      "60.0 1389\n",
      "47.0 1033\n",
      "87.0 640\n",
      "17.0 1106\n",
      "88.0 455\n",
      "85.0 847\n",
      "12.0 901\n",
      "6.0 3017\n",
      "96.0 61\n",
      "44.0 1174\n",
      "54.0 1207\n",
      "15.0 786\n",
      "38.0 1115\n",
      "56.0 1608\n",
      "83.0 1058\n",
      "23.0 2024\n",
      "58.0 1147\n",
      "70.0 1039\n",
      "65.0 1281\n",
      "82.0 1039\n",
      "50.0 1247\n",
      "84.0 946\n",
      "61.0 1487\n",
      "75.0 603\n",
      "52.0 860\n",
      "95.0 100\n",
      "22.0 1755\n",
      "78.0 853\n",
      "89.0 310\n",
      "66.0 1301\n",
      "20.0 1213\n",
      "67.0 1118\n",
      "19.0 1112\n",
      "39.0 1188\n",
      "46.0 1075\n",
      "24.0 2203\n",
      "73.0 850\n",
      "77.0 767\n",
      "90.0 334\n",
      "92.0 223\n",
      "94.0 117\n",
      "93.0 195\n",
      "100.0 7\n",
      "0.0 3\n",
      "105.0 10\n",
      "97.0 48\n",
      "98.0 33\n",
      "102.0 9\n",
      "101.0 5\n",
      "0.8333333333333334 56\n",
      "99.0 10\n",
      "0.08333333333333333 43\n",
      "103.0 6\n",
      "0.1666666666666667 103\n",
      "0.25 121\n",
      "0.3333333333333333 95\n",
      "0.4166666666666667 118\n",
      "0.5 149\n",
      "0.5833333333333334 125\n",
      "0.6666666666666666 116\n",
      "0.75 94\n",
      "0.9166666666666666 29\n"
     ]
    }
   ],
   "source": [
    "for i in data['年龄'].unique():\n",
    "    print(i,len(data[data['年龄']==i]))"
   ]
  },
  {
   "cell_type": "code",
   "execution_count": 6,
   "metadata": {},
   "outputs": [
    {
     "name": "stdout",
     "output_type": "stream",
     "text": [
      "急诊外科 25377\n",
      "急诊内科 62106\n",
      "急诊儿科 30807\n",
      "急诊产科 28\n",
      "内科夜诊 9615\n",
      "发热门诊 89\n",
      "急诊耳鼻喉科 208\n",
      "急诊复诊 117\n",
      "急诊眼科 82\n",
      "急诊妇科 163\n",
      "急诊口腔科 17\n",
      "急诊感染科 35\n",
      "急诊新生儿科 1\n"
     ]
    }
   ],
   "source": [
    "for i in data['分诊科室'].unique():\n",
    "    print(i,len(data[data['分诊科室']==i]))"
   ]
  },
  {
   "cell_type": "code",
   "execution_count": 8,
   "metadata": {},
   "outputs": [
    {
     "data": {
      "text/plain": [
       "array(['急诊外科', '急诊内科', '急诊儿科', '急诊产科', '内科夜诊', '发热门诊', '急诊耳鼻喉科', '急诊复诊',\n",
       "       '急诊眼科', '急诊妇科', '急诊口腔科', '急诊感染科', '急诊新生儿科'], dtype=object)"
      ]
     },
     "execution_count": 8,
     "metadata": {},
     "output_type": "execute_result"
    }
   ],
   "source": [
    "labels=data['分诊科室'].unique()\n",
    "labels"
   ]
  },
  {
   "cell_type": "code",
   "execution_count": 9,
   "metadata": {},
   "outputs": [
    {
     "data": {
      "text/plain": [
       "[25377, 62106, 30807, 28, 9615, 89, 208, 117, 82, 163, 17, 35, 1]"
      ]
     },
     "execution_count": 9,
     "metadata": {},
     "output_type": "execute_result"
    }
   ],
   "source": [
    "fenzhenkeshi=[]\n",
    "labels=data['分诊科室'].unique()\n",
    "for i in data['分诊科室'].unique():\n",
    "    fenzhenkeshi.append(len(data[data['分诊科室']==i]))\n",
    "fenzhenkeshi"
   ]
  },
  {
   "cell_type": "code",
   "execution_count": 20,
   "metadata": {},
   "outputs": [
    {
     "data": {
      "image/png": "[encoded data removed]",
      "text/plain": [
       "<Figure size 936x576 with 1 Axes>"
      ]
     },
     "metadata": {
      "needs_background": "light"
     },
     "output_type": "display_data"
    }
   ],
   "source": [
    "fig = plt.figure(figsize=(13, 8))\n",
    "plt.bar(labels, fenzhenkeshi,color=['r','g','b', 'c', 'm', 'y'])\n",
    "for a,b in zip(labels,fenzhenkeshi):\n",
    "    plt.text(a, b-0.3,'%.0f'%b, ha = 'center',va = 'bottom',fontsize=12)\n",
    "plt.setp(plt.gca().get_xticklabels(), rotation=15, horizontalalignment='center')#x轴字体旋转23度\n",
    "plt.xticks(fontsize=12)#设置刻度字体大小\n",
    "plt.grid(True,axis='both',linestyle='-.', linewidth=0.5)\n",
    "# plt.xlabel(\"温度\",fontdict={'fontsize': 16})\n",
    "plt.ylabel(\"人数\",fontdict={'fontsize': 16})\n",
    "# plt.savefig('')\n",
    "plt.show()"
   ]
  },
  {
   "cell_type": "code",
   "execution_count": 37,
   "metadata": {},
   "outputs": [
    {
     "data": {
      "text/plain": [
       "[4944, 59370, 64151, 180]"
      ]
     },
     "execution_count": 37,
     "metadata": {},
     "output_type": "execute_result"
    }
   ],
   "source": [
    "fenzhendengji=[]\n",
    "labels=['1','2','3','4']\n",
    "for i in data['分诊等级'].unique():\n",
    "    fenzhendengji.append(len(data[data['分诊等级']==int(i)]))\n",
    "fenzhendengji"
   ]
  },
  {
   "cell_type": "code",
   "execution_count": 41,
   "metadata": {},
   "outputs": [
    {
     "data": {
      "image/png": "[encoded data removed]",
      "text/plain": [
       "<Figure size 936x504 with 1 Axes>"
      ]
     },
     "metadata": {
      "needs_background": "light"
     },
     "output_type": "display_data"
    }
   ],
   "source": [
    "fig = plt.figure(figsize=(13, 7))\n",
    "plt.bar(labels, fenzhendengji,color=['r','g','b', 'c', 'm', 'y'])\n",
    "for a,b in zip(labels,fenzhendengji):\n",
    "    plt.text(a, b-0.3,'%.0f'%b, ha = 'center',va = 'bottom',fontsize=12)\n",
    "plt.setp(plt.gca().get_xticklabels(), rotation=0, horizontalalignment='center')#x轴字体旋转23度\n",
    "plt.xticks(fontsize=12)#设置刻度字体大小\n",
    "# plt.grid(True,axis='both',linestyle='-.', linewidth=0.5)\n",
    "# plt.xlabel(\"温度\",fontdict={'fontsize': 16})\n",
    "plt.ylabel(\"人数\",fontdict={'fontsize': 16})\n",
    "# plt.savefig('')\n",
    "plt.show()"
   ]
  },
  {
   "cell_type": "code",
   "execution_count": 22,
   "metadata": {},
   "outputs": [
    {
     "name": "stdout",
     "output_type": "stream",
     "text": [
      "医疗室 125195\n",
      "抢救室 3450\n"
     ]
    }
   ],
   "source": [
    "for i in data['分诊去向'].unique():\n",
    "    print(i,len(data[data['分诊去向']==i]))"
   ]
  },
  {
   "cell_type": "code",
   "execution_count": 23,
   "metadata": {},
   "outputs": [
    {
     "data": {
      "text/plain": [
       "array([  12,    5,   45,    0,   34,   66,   37,    3,    8,  105,   61,\n",
       "          2,  852,   32,   35,   20,  565,   29,    6,    1,  748,   11,\n",
       "        121,  188,   31,   33,   17,  133,   95,    4,   38,   52,   10,\n",
       "          9,   25,  362,   16,   70,   23,   81,  569,  617, 1438,    7,\n",
       "         26,   30,  366,   36,   42,   13, 1080,  446,   21,   62,   18,\n",
       "         58,   88,   55, 1439,  100,   64,   86,  113,   41,   14,   63,\n",
       "         93,   49,  150,   43,   60,   15,  162,  409,   19,   39,   54,\n",
       "         28, 1408,   22,  114,   57,  123,  462,   40,   77,  606,   72,\n",
       "        288,  197,   51,  208,   27,  317,   24,  102,  568,   53,   69,\n",
       "        762,  803, 1432,  254,   67,  819,  415,  196, 1434,   68, 1437,\n",
       "         80,  314,   56, 1166, 1062,  220,   59,   78,  125, 1358,   75,\n",
       "        461,   44,   84,   47,  168,   50,  108,   85,  101,  179,  147,\n",
       "       1414,   90,  294,   46,   89,  103,  172,  173,   96,  489,  230,\n",
       "        135,  403,   79,  428,   83,  198,  341,   48,  802,  122,  112,\n",
       "        222, 1274,  187, 1436,  327,  363,   94,  141,  166,  413,  690,\n",
       "         73,   97,   92, 1338,  130,  180,  838,  432,  120,  131,  134,\n",
       "        267,  595,  129,  471,  149,  392, 1422,  395,  136,  171, 1094,\n",
       "         74,  190, 1415, 1427,  137,  142,  816,  126,  849,   91,  118,\n",
       "         76,  251,  823,  106,   71,   65,  156, 1264,  237, 1127,  210,\n",
       "       1429,  183,  278, 1176,  182,  117,  153,  110,  500,  174,  205,\n",
       "        626,  266], dtype=int64)"
      ]
     },
     "execution_count": 23,
     "metadata": {},
     "output_type": "execute_result"
    }
   ],
   "source": [
    "data[data['分诊去向']=='抢救室']['候诊/分钟'].unique()"
   ]
  },
  {
   "cell_type": "code",
   "execution_count": null,
   "metadata": {},
   "outputs": [],
   "source": []
  },
  {
   "cell_type": "code",
   "execution_count": 24,
   "metadata": {},
   "outputs": [
    {
     "name": "stdout",
     "output_type": "stream",
     "text": [
      "耳温 128638\n",
      "腋温 7\n"
     ]
    }
   ],
   "source": [
    "for i in data['体温类型'].unique():\n",
    "    print(i,len(data[data['体温类型']==i]))"
   ]
  },
  {
   "cell_type": "code",
   "execution_count": 25,
   "metadata": {},
   "outputs": [
    {
     "name": "stdout",
     "output_type": "stream",
     "text": [
      "疼痛评分的值43289,相同的值人数有： 199\n",
      "疼痛评分的值 ,相同的值人数有： 54348\n",
      "疼痛评分的值43226,相同的值人数有： 3495\n",
      "疼痛评分的值43102,相同的值人数有： 22175\n",
      "疼痛评分的值0,相同的值人数有： 39398\n",
      "疼痛评分的值43163,相同的值人数有： 9026\n",
      "疼痛评分的值43353,相同的值人数有： 4\n"
     ]
    }
   ],
   "source": [
    "for i in data['疼痛评分'].unique():\n",
    "    print('疼痛评分的值{},相同的值人数有：'.format(i),len(data[data['疼痛评分']==i]))"
   ]
  },
  {
   "cell_type": "code",
   "execution_count": 26,
   "metadata": {},
   "outputs": [
    {
     "data": {
      "text/plain": [
       "array([43289, ' ', 43226, 43102, 0, 43163, 43353], dtype=object)"
      ]
     },
     "execution_count": 26,
     "metadata": {},
     "output_type": "execute_result"
    }
   ],
   "source": [
    "data['疼痛评分'].unique()"
   ]
  },
  {
   "cell_type": "code",
   "execution_count": null,
   "metadata": {},
   "outputs": [],
   "source": []
  },
  {
   "cell_type": "code",
   "execution_count": 27,
   "metadata": {},
   "outputs": [
    {
     "data": {
      "text/plain": [
       "array([15,  7, 11,  4, 14,  9,  3,  6, 13, 12,  5, 10,  8], dtype=int64)"
      ]
     },
     "execution_count": 27,
     "metadata": {},
     "output_type": "execute_result"
    }
   ],
   "source": [
    "data['GCS评分'].unique()"
   ]
  },
  {
   "cell_type": "code",
   "execution_count": 28,
   "metadata": {},
   "outputs": [
    {
     "name": "stdout",
     "output_type": "stream",
     "text": [
      "15 128122\n",
      "7 28\n",
      "11 45\n",
      "4 15\n",
      "14 186\n",
      "9 31\n",
      "3 57\n",
      "6 13\n",
      "13 33\n",
      "12 60\n",
      "5 11\n",
      "10 34\n",
      "8 10\n"
     ]
    }
   ],
   "source": [
    "for i in data['GCS评分'].unique():\n",
    "    print(i,len(data[data['GCS评分']==i]))"
   ]
  },
  {
   "cell_type": "code",
   "execution_count": 29,
   "metadata": {},
   "outputs": [
    {
     "data": {
      "text/plain": [
       "array([   0,    1,    2,    3,    4,    5,    6,    7,    8,    9,   10,\n",
       "         11,   12,   13,   14,   15,   16,   17,   18,   19,   20,   21,\n",
       "         22,   23,   24,   25,   26,   27,   28,   29,   30,   31,   32,\n",
       "         33,   34,   35,   36,   37,   38,   39,   40,   41,   42,   43,\n",
       "         44,   45,   46,   47,   48,   49,   50,   51,   52,   53,   54,\n",
       "         55,   56,   57,   58,   59,   60,   61,   62,   63,   64,   65,\n",
       "         66,   67,   68,   69,   70,   71,   72,   73,   74,   75,   76,\n",
       "         77,   78,   79,   80,   81,   82,   83,   84,   85,   86,   87,\n",
       "         88,   89,   90,   91,   92,   93,   94,   95,   96,   97,   98,\n",
       "         99,  100,  101,  102,  103,  104,  105,  106,  107,  108,  109,\n",
       "        110,  111,  112,  113,  114,  115,  116,  117,  118,  119,  120,\n",
       "        121,  122,  123,  124,  125,  126,  127,  128,  129,  130,  131,\n",
       "        132,  133,  134,  135,  136,  137,  138,  139,  140,  141,  142,\n",
       "        143,  144,  145,  146,  147,  148,  149,  150,  151,  152,  153,\n",
       "        154,  155,  156,  157,  158,  159,  160,  161,  162,  163,  164,\n",
       "        165,  166,  167,  168,  169,  170,  171,  172,  173,  174,  175,\n",
       "        176,  177,  178,  179,  180,  181,  182,  183,  184,  185,  186,\n",
       "        187,  188,  189,  190,  191,  192,  193,  194,  195,  196,  197,\n",
       "        198,  199,  200,  201,  202,  203,  204,  205,  206,  207,  208,\n",
       "        209,  210,  211,  212,  213,  214,  215,  216,  217,  218,  219,\n",
       "        220,  221,  222,  223,  224,  225,  226,  227,  228,  229,  230,\n",
       "        231,  232,  233,  234,  235,  236,  237,  238,  239,  240,  241,\n",
       "        242,  243,  244,  245,  246,  247,  248,  249,  250,  251,  252,\n",
       "        253,  254,  255,  256,  257,  258,  259,  260,  261,  262,  263,\n",
       "        264,  265,  266,  267,  268,  269,  270,  271,  272,  273,  274,\n",
       "        275,  276,  277,  278,  279,  280,  281,  282,  283,  284,  285,\n",
       "        286,  287,  288,  289,  290,  291,  292,  293,  294,  295,  296,\n",
       "        297,  298,  299,  300,  301,  303,  304,  305,  306,  307,  309,\n",
       "        310,  312,  313,  314,  315,  316,  317,  318,  320,  321,  322,\n",
       "        323,  324,  325,  326,  327,  328,  329,  331,  332,  333,  334,\n",
       "        335,  336,  337,  338,  339,  340,  341,  342,  343,  344,  345,\n",
       "        347,  348,  349,  350,  352,  353,  354,  355,  356,  357,  358,\n",
       "        359,  360,  361,  362,  363,  364,  366,  367,  368,  370,  371,\n",
       "        374,  375,  376,  378,  380,  381,  384,  385,  388,  390,  391,\n",
       "        392,  395,  396,  397,  399,  400,  402,  403,  404,  405,  409,\n",
       "        411,  412,  413,  414,  415,  416,  419,  420,  424,  426,  428,\n",
       "        430,  431,  432,  433,  435,  437,  439,  445,  446,  449,  450,\n",
       "        456,  460,  461,  462,  463,  465,  467,  471,  473,  475,  483,\n",
       "        485,  486,  489,  492,  499,  500,  502,  503,  517,  532,  534,\n",
       "        538,  553,  557,  565,  568,  569,  571,  573,  595,  597,  606,\n",
       "        613,  616,  617,  626,  629,  630,  643,  662,  667,  679,  688,\n",
       "        690,  693,  742,  746,  748,  755,  760,  761,  762,  763,  774,\n",
       "        775,  787,  795,  802,  803,  816,  817,  818,  819,  823,  838,\n",
       "        840,  849,  852,  906,  907,  908,  919,  950,  958,  964,  981,\n",
       "       1023, 1035, 1038, 1059, 1062, 1066, 1077, 1080, 1093, 1094, 1108,\n",
       "       1113, 1122, 1124, 1127, 1136, 1143, 1164, 1166, 1176, 1177, 1184,\n",
       "       1185, 1200, 1201, 1239, 1264, 1272, 1274, 1277, 1280, 1300, 1307,\n",
       "       1328, 1337, 1338, 1340, 1345, 1358, 1359, 1370, 1378, 1390, 1391,\n",
       "       1393, 1398, 1399, 1407, 1408, 1414, 1415, 1417, 1421, 1422, 1425,\n",
       "       1427, 1429, 1432, 1433, 1434, 1435, 1436, 1437, 1438, 1439],\n",
       "      dtype=int64)"
      ]
     },
     "execution_count": 29,
     "metadata": {},
     "output_type": "execute_result"
    }
   ],
   "source": [
    "list_=data['候诊/分钟'].unique()\n",
    "list_.sort()\n",
    "list_"
   ]
  },
  {
   "cell_type": "code",
   "execution_count": 30,
   "metadata": {},
   "outputs": [
    {
     "data": {
      "text/plain": [
       "Index(['就诊时间', '年龄', '性别', '分诊科室', '分诊等级', '分诊去向', '分诊时间', '到诊时间', '抢救上床时间',\n",
       "       '体温类型', '体温', '脉搏', '收缩压', '舒张压', '呼吸', 'SpO2', '微量血糖', '疼痛评分', 'GCS评分',\n",
       "       'PHI评分', '来诊主诉', '主诉', '现病史', '既病史', '药物过敏史', '诊断', '处理意见', '注意事项',\n",
       "       '时长', '没有时长的主诉', '时长（统一数字）_1', '编码', '分诊', '到诊', '时间差', '分诊-年', '分诊-月',\n",
       "       '分诊-日', '分诊-时', '分诊-分', '分诊-秒', '候诊/分钟'],\n",
       "      dtype='object')"
      ]
     },
     "execution_count": 30,
     "metadata": {},
     "output_type": "execute_result"
    }
   ],
   "source": [
    "data.columns"
   ]
  },
  {
   "cell_type": "code",
   "execution_count": 36,
   "metadata": {},
   "outputs": [
    {
     "name": "stdout",
     "output_type": "stream",
     "text": [
      "33\n",
      "异常值104.0  的数量：1\n",
      "异常值120.0  的数量：2\n",
      "异常值1000.0  的数量：3\n",
      "异常值106.0  的数量：1\n",
      "异常值121.0  的数量：1\n",
      "异常值998.0  的数量：2\n",
      "异常值999.0  的数量：6\n",
      "异常值131.0  的数量：2\n",
      "异常值146.0  的数量：1\n",
      "异常值983.0  的数量：1\n",
      "异常值993.0  的数量：1\n",
      "异常值110.0  的数量：1\n",
      "异常值960.0  的数量：1\n",
      "异常值112.0  的数量：1\n",
      "异常值9917.0  的数量：1\n",
      "异常值107.0  的数量：1\n",
      "异常值969.0  的数量：1\n",
      "异常值102.0  的数量：1\n",
      "异常值113.0  的数量：1\n",
      "异常值103.0  的数量：1\n",
      "异常值43351.0  的数量：1\n",
      "异常值9899.0  的数量：1\n",
      "异常值114.0  的数量：1\n"
     ]
    }
   ],
   "source": [
    "print(len(data[data['SpO2']>100]))\n",
    "for i in data[data['SpO2']>100]['SpO2'].unique():\n",
    "    print('异常值{}  的数量：{}'.format(i,len(data[data['SpO2']==i])))\n"
   ]
  },
  {
   "cell_type": "code",
   "execution_count": 65,
   "metadata": {},
   "outputs": [
    {
     "data": {
      "text/plain": [
       "179"
      ]
     },
     "execution_count": 65,
     "metadata": {},
     "output_type": "execute_result"
    }
   ],
   "source": [
    "len(data[data['候诊/分钟']>1000])  ##已经等待了16个小时的"
   ]
  },
  {
   "cell_type": "code",
   "execution_count": 66,
   "metadata": {},
   "outputs": [
    {
     "data": {
      "text/plain": [
       "69"
      ]
     },
     "execution_count": 66,
     "metadata": {},
     "output_type": "execute_result"
    }
   ],
   "source": [
    "len(data[data['候诊/分钟']>1400])  ##等待长大于23小时"
   ]
  },
  {
   "cell_type": "code",
   "execution_count": 87,
   "metadata": {},
   "outputs": [],
   "source": [
    "data['分段_15min']=data['候诊/分钟']\n",
    "fifteen_list=[i for i in range(24*60)]\n",
    "fifteen_listt_gap=fifteen_list[::15]\n",
    "for i in range(len(fifteen_listt_gap)):\n",
    "    data['分段_15min']=data['分段_15min'].apply(lambda x:i+1 if (x>fifteen_listt_gap[i] and x<=fifteen_listt_gap[i]+15) else x)"
   ]
  },
  {
   "cell_type": "code",
   "execution_count": null,
   "metadata": {},
   "outputs": [],
   "source": []
  },
  {
   "cell_type": "code",
   "execution_count": null,
   "metadata": {},
   "outputs": [],
   "source": []
  },
  {
   "cell_type": "code",
   "execution_count": 88,
   "metadata": {},
   "outputs": [],
   "source": [
    "data.to_excel('源数据/test.xlsx')"
   ]
  },
  {
   "cell_type": "code",
   "execution_count": null,
   "metadata": {},
   "outputs": [],
   "source": []
  },
  {
   "cell_type": "code",
   "execution_count": 58,
   "metadata": {},
   "outputs": [],
   "source": []
  },
  {
   "cell_type": "code",
   "execution_count": null,
   "metadata": {},
   "outputs": [],
   "source": []
  },
  {
   "cell_type": "code",
   "execution_count": null,
   "metadata": {},
   "outputs": [],
   "source": []
  },
  {
   "cell_type": "code",
   "execution_count": null,
   "metadata": {},
   "outputs": [],
   "source": []
  },
  {
   "cell_type": "code",
   "execution_count": null,
   "metadata": {},
   "outputs": [],
   "source": []
  },
  {
   "cell_type": "code",
   "execution_count": null,
   "metadata": {},
   "outputs": [],
   "source": []
  },
  {
   "cell_type": "code",
   "execution_count": null,
   "metadata": {},
   "outputs": [],
   "source": []
  },
  {
   "cell_type": "code",
   "execution_count": null,
   "metadata": {},
   "outputs": [],
   "source": []
  },
  {
   "cell_type": "code",
   "execution_count": null,
   "metadata": {},
   "outputs": [],
   "source": []
  },
  {
   "cell_type": "code",
   "execution_count": null,
   "metadata": {},
   "outputs": [],
   "source": []
  },
  {
   "cell_type": "code",
   "execution_count": null,
   "metadata": {},
   "outputs": [],
   "source": []
  }
 ],
 "metadata": {
  "kernelspec": {
   "display_name": "Python 3",
   "language": "python",
   "name": "python3"
  },
  "language_info": {
   "codemirror_mode": {
    "name": "ipython",
    "version": 3
   },
   "file_extension": ".py",
   "mimetype": "text/x-python",
   "name": "python",
   "nbconvert_exporter": "python",
   "pygments_lexer": "ipython3",
   "version": "3.7.4"
  }
 },
 "nbformat": 4,
 "nbformat_minor": 2
}
